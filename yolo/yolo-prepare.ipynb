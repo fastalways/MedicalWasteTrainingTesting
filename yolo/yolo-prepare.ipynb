{
 "cells": [
  {
   "cell_type": "markdown",
   "metadata": {},
   "source": [
    "## List image file to train.txt / valid.txt [[Use Cmd]]"
   ]
  },
  {
   "cell_type": "code",
   "execution_count": null,
   "metadata": {},
   "outputs": [],
   "source": [
    "D:\n",
    "cd D:\\DatasetMedicalWasteYolo\\data\\train\\\n",
    "dir /b /s *.png > train.txt\n",
    "move train.txt ../train.txt"
   ]
  },
  {
   "cell_type": "code",
   "execution_count": null,
   "metadata": {},
   "outputs": [],
   "source": [
    "D:\n",
    "cd D:\\DatasetMedicalWasteYolo\\data\\valid\\\n",
    "dir /b /s *.png > valid.txt\n",
    "move valid.txt ../valid.txt"
   ]
  },
  {
   "cell_type": "markdown",
   "metadata": {},
   "source": [
    "## Using also PowerShell (install Cmake, VScode, CUDA, cuDNN brefore )"
   ]
  },
  {
   "cell_type": "code",
   "execution_count": null,
   "metadata": {},
   "outputs": [],
   "source": [
    "install and add environment variable [[path]] -> ninja\n",
    "download ninja from https://github.com/ninja-build/ninja/releases"
   ]
  },
  {
   "cell_type": "code",
   "execution_count": null,
   "metadata": {},
   "outputs": [],
   "source": [
    "Set-ExecutionPolicy unrestricted -Scope CurrentUser -Force # (As admin)-------------------------\n",
    "git clone https://github.com/AlexeyAB/darknet\n",
    "cd darknet\n",
    "./build.ps1 -UseVCPKG -EnableOPENCV -EnableCUDA -EnableCUDNN\n",
    "Set-ExecutionPolicy Restricted # (As admin)-------------------------"
   ]
  },
  {
   "cell_type": "markdown",
   "metadata": {},
   "source": [
    "copy /build_release/*        to     copy /build/darknet/x64/"
   ]
  },
  {
   "cell_type": "markdown",
   "metadata": {},
   "source": [
    "## Train with Yolo4"
   ]
  },
  {
   "cell_type": "code",
   "execution_count": null,
   "metadata": {},
   "outputs": [],
   "source": [
    "!d:\n",
    "%cd D:\\darknet\\build\\darknet\\x64\n",
    "!.\\darknet.exe detector train data/obj.data yolo-obj.cfg yolov4.conv.137 -map"
   ]
  }
 ],
 "metadata": {
  "interpreter": {
   "hash": "1baa965d5efe3ac65b79dfc60c0d706280b1da80fedb7760faf2759126c4f253"
  },
  "kernelspec": {
   "display_name": "Python 3.8.10 64-bit",
   "language": "python",
   "name": "python3"
  },
  "language_info": {
   "codemirror_mode": {
    "name": "ipython",
    "version": 3
   },
   "file_extension": ".py",
   "mimetype": "text/x-python",
   "name": "python",
   "nbconvert_exporter": "python",
   "pygments_lexer": "ipython3",
   "version": "3.8.10"
  },
  "orig_nbformat": 4
 },
 "nbformat": 4,
 "nbformat_minor": 2
}
